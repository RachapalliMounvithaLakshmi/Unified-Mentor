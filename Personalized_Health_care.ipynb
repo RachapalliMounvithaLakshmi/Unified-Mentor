{
  "nbformat": 4,
  "nbformat_minor": 0,
  "metadata": {
    "colab": {
      "provenance": [],
      "authorship_tag": "ABX9TyNP/QY1yVRWJf6sVcS55hBC",
      "include_colab_link": true
    },
    "kernelspec": {
      "name": "python3",
      "display_name": "Python 3"
    },
    "language_info": {
      "name": "python"
    }
  },
  "cells": [
    {
      "cell_type": "markdown",
      "metadata": {
        "id": "view-in-github",
        "colab_type": "text"
      },
      "source": [
        "<a href=\"https://colab.research.google.com/github/RachapalliMounvithaLakshmi/Unified-Mentor/blob/main/Personalized_Health_care.ipynb\" target=\"_parent\"><img src=\"https://colab.research.google.com/assets/colab-badge.svg\" alt=\"Open In Colab\"/></a>"
      ]
    },
    {
      "cell_type": "code",
      "execution_count": null,
      "metadata": {
        "colab": {
          "base_uri": "https://localhost:8080/"
        },
        "id": "ROVHBhSQbQo5",
        "outputId": "b161ce7c-da75-4283-83e4-308152482d2e"
      },
      "outputs": [
        {
          "output_type": "stream",
          "name": "stdout",
          "text": [
            "<class 'pandas.core.frame.DataFrame'>\n",
            "RangeIndex: 748 entries, 0 to 747\n",
            "Data columns (total 5 columns):\n",
            " #   Column     Non-Null Count  Dtype\n",
            "---  ------     --------------  -----\n",
            " 0   Recency    748 non-null    int64\n",
            " 1   Frequency  748 non-null    int64\n",
            " 2   Monetary   748 non-null    int64\n",
            " 3   Time       748 non-null    int64\n",
            " 4   Class      748 non-null    int64\n",
            "dtypes: int64(5)\n",
            "memory usage: 29.3 KB\n",
            "None\n",
            "          Recency   Frequency      Monetary        Time       Class\n",
            "count  748.000000  748.000000    748.000000  748.000000  748.000000\n",
            "mean     9.506684    5.516043   1378.676471   34.284759    0.237968\n",
            "std      8.095396    5.841825   1459.826781   24.380307    0.426124\n",
            "min      0.000000    1.000000    250.000000    2.000000    0.000000\n",
            "25%      2.750000    2.000000    500.000000   16.000000    0.000000\n",
            "50%      7.000000    4.000000   1000.000000   28.000000    0.000000\n",
            "75%     14.000000    7.000000   1750.000000   50.000000    0.000000\n",
            "max     74.000000   50.000000  12500.000000   99.000000    1.000000\n",
            "Missing values:\n",
            " Recency      0\n",
            "Frequency    0\n",
            "Monetary     0\n",
            "Time         0\n",
            "Class        0\n",
            "dtype: int64\n",
            "Target distribution:\n",
            " Class\n",
            "0    0.762032\n",
            "1    0.237968\n",
            "Name: proportion, dtype: float64\n"
          ]
        }
      ],
      "source": [
        "import pandas as pd\n",
        "from sklearn.model_selection import train_test_split\n",
        "from sklearn.preprocessing import StandardScaler\n",
        "\n",
        "# Load dataset\n",
        "data = pd.read_csv('/content/blood.csv')\n",
        "\n",
        "# Display basic info and stats\n",
        "print(data.info())\n",
        "print(data.describe())\n",
        "print(\"Missing values:\\n\", data.isnull().sum())\n",
        "print(\"Target distribution:\\n\", data['Class'].value_counts(normalize=True))\n",
        "\n",
        "# Split features and target\n",
        "X = data.drop('Class', axis=1)\n",
        "y = data['Class']\n",
        "\n",
        "# Split into training and testing sets with stratification\n",
        "X_train, X_test, y_train, y_test = train_test_split(\n",
        "    X, y, test_size=0.2, random_state=42, stratify=y)\n",
        "\n",
        "# Standardize features (mean=0, var=1)\n",
        "scaler = StandardScaler()\n",
        "X_train_scaled = scaler.fit_transform(X_train)\n",
        "X_test_scaled = scaler.transform(X_test)\n"
      ]
    },
    {
      "cell_type": "code",
      "source": [
        "from sklearn.linear_model import LogisticRegression\n",
        "from sklearn.metrics import classification_report\n",
        "\n",
        "# Initialize and train model\n",
        "lr_model = LogisticRegression(random_state=42, max_iter=1000)\n",
        "lr_model.fit(X_train_scaled, y_train)\n",
        "\n",
        "# Predict and evaluate\n",
        "y_pred_lr = lr_model.predict(X_test_scaled)\n",
        "print(\"Logistic Regression Classification Report:\")\n",
        "print(classification_report(y_test, y_pred_lr, zero_division=0))\n"
      ],
      "metadata": {
        "colab": {
          "base_uri": "https://localhost:8080/"
        },
        "id": "z0O7POf9bklO",
        "outputId": "2d3d0fb5-052b-42e4-e781-998ec0a18202"
      },
      "execution_count": null,
      "outputs": [
        {
          "output_type": "stream",
          "name": "stdout",
          "text": [
            "Logistic Regression Classification Report:\n",
            "              precision    recall  f1-score   support\n",
            "\n",
            "           0       0.78      0.97      0.86       114\n",
            "           1       0.57      0.11      0.19        36\n",
            "\n",
            "    accuracy                           0.77       150\n",
            "   macro avg       0.67      0.54      0.52       150\n",
            "weighted avg       0.73      0.77      0.70       150\n",
            "\n"
          ]
        }
      ]
    },
    {
      "cell_type": "code",
      "source": [
        "from sklearn.ensemble import RandomForestClassifier\n",
        "\n",
        "# Initialize and train model\n",
        "rf_model = RandomForestClassifier(random_state=42)\n",
        "rf_model.fit(X_train_scaled, y_train)\n",
        "\n",
        "# Predict and evaluate\n",
        "y_pred_rf = rf_model.predict(X_test_scaled)\n",
        "print(\"Random Forest Classification Report:\")\n",
        "print(classification_report(y_test, y_pred_rf, zero_division=0))\n"
      ],
      "metadata": {
        "colab": {
          "base_uri": "https://localhost:8080/"
        },
        "id": "E5h5AxtlboXQ",
        "outputId": "c281b64a-9533-4bfa-af6e-ecadf8129e6c"
      },
      "execution_count": null,
      "outputs": [
        {
          "output_type": "stream",
          "name": "stdout",
          "text": [
            "Random Forest Classification Report:\n",
            "              precision    recall  f1-score   support\n",
            "\n",
            "           0       0.81      0.86      0.83       114\n",
            "           1       0.45      0.36      0.40        36\n",
            "\n",
            "    accuracy                           0.74       150\n",
            "   macro avg       0.63      0.61      0.62       150\n",
            "weighted avg       0.72      0.74      0.73       150\n",
            "\n"
          ]
        }
      ]
    },
    {
      "cell_type": "code",
      "source": [
        "from sklearn.ensemble import GradientBoostingClassifier\n",
        "\n",
        "# Initialize and train model\n",
        "gb_model = GradientBoostingClassifier(random_state=42)\n",
        "gb_model.fit(X_train_scaled, y_train)\n",
        "\n",
        "# Predict and evaluate\n",
        "y_pred_gb = gb_model.predict(X_test_scaled)\n",
        "print(\"Gradient Boosting Classification Report:\")\n",
        "print(classification_report(y_test, y_pred_gb, zero_division=0))\n"
      ],
      "metadata": {
        "colab": {
          "base_uri": "https://localhost:8080/"
        },
        "id": "MzkfiVe_bqwB",
        "outputId": "02f5616e-1f5e-4f31-89e8-4e83c09f5938"
      },
      "execution_count": null,
      "outputs": [
        {
          "output_type": "stream",
          "name": "stdout",
          "text": [
            "Gradient Boosting Classification Report:\n",
            "              precision    recall  f1-score   support\n",
            "\n",
            "           0       0.82      0.92      0.87       114\n",
            "           1       0.59      0.36      0.45        36\n",
            "\n",
            "    accuracy                           0.79       150\n",
            "   macro avg       0.71      0.64      0.66       150\n",
            "weighted avg       0.77      0.79      0.77       150\n",
            "\n"
          ]
        }
      ]
    },
    {
      "cell_type": "code",
      "source": [
        "from sklearn.svm import SVC\n",
        "\n",
        "# Initialize and train model\n",
        "svm_model = SVC(random_state=42, probability=True)\n",
        "svm_model.fit(X_train_scaled, y_train)\n",
        "\n",
        "# Predict and evaluate\n",
        "y_pred_svm = svm_model.predict(X_test_scaled)\n",
        "print(\"Support Vector Machine Classification Report:\")\n",
        "print(classification_report(y_test, y_pred_svm, zero_division=0))\n"
      ],
      "metadata": {
        "colab": {
          "base_uri": "https://localhost:8080/"
        },
        "id": "rP8pevOJbtO-",
        "outputId": "fbbb5b1f-0dca-4e44-b832-c51f67e3a42e"
      },
      "execution_count": null,
      "outputs": [
        {
          "output_type": "stream",
          "name": "stdout",
          "text": [
            "Support Vector Machine Classification Report:\n",
            "              precision    recall  f1-score   support\n",
            "\n",
            "           0       0.77      0.98      0.86       114\n",
            "           1       0.60      0.08      0.15        36\n",
            "\n",
            "    accuracy                           0.77       150\n",
            "   macro avg       0.69      0.53      0.51       150\n",
            "weighted avg       0.73      0.77      0.69       150\n",
            "\n"
          ]
        }
      ]
    },
    {
      "cell_type": "code",
      "source": [
        "import matplotlib.pyplot as plt\n",
        "\n",
        "# Model names\n",
        "models = ['Logistic Regression', 'Random Forest', 'Gradient Boosting', 'Support Vector Machine']\n",
        "\n",
        "# Corresponding accuracy scores\n",
        "accuracies = [0.767, 0.74, 0.787, 0.767]\n",
        "\n",
        "# Create bar chart\n",
        "plt.figure(figsize=(8,6))\n",
        "plt.bar(models, accuracies, color=['blue', 'green', 'red', 'purple'])\n",
        "plt.ylim([0, 1])\n",
        "plt.ylabel('Accuracy')\n",
        "plt.title('Accuracy Comparison of ML Models on Blood Dataset')\n",
        "for i, v in enumerate(accuracies):\n",
        "    plt.text(i, v + 0.02, f\"{v:.3f}\", ha='center', fontsize=12)\n",
        "plt.show()\n"
      ],
      "metadata": {
        "colab": {
          "base_uri": "https://localhost:8080/",
          "height": 545
        },
        "id": "MFw13RLzbv8V",
        "outputId": "0f19d7c9-f0b0-40f1-e9a6-c682324e1688"
      },
      "execution_count": null,
      "outputs": [
        {
          "output_type": "display_data",
          "data": {
            "text/plain": [
              "<Figure size 800x600 with 1 Axes>"
            ],
            "image/png": "[encoded data removed]"
          },
          "metadata": {}
        }
      ]
    },
    {
      "cell_type": "code",
      "source": [],
      "metadata": {
        "id": "gi6aX7YhcHot"
      },
      "execution_count": null,
      "outputs": []
    }
  ]
}