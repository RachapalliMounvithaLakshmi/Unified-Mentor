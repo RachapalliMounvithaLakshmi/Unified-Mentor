{
  "nbformat": 4,
  "nbformat_minor": 0,
  "metadata": {
    "colab": {
      "provenance": [],
      "authorship_tag": "ABX9TyOEC2gyb/vC7MyMV50eCiXe",
      "include_colab_link": true
    },
    "kernelspec": {
      "name": "python3",
      "display_name": "Python 3"
    },
    "language_info": {
      "name": "python"
    }
  },
  "cells": [
    {
      "cell_type": "markdown",
      "metadata": {
        "id": "view-in-github",
        "colab_type": "text"
      },
      "source": [
        "<a href=\"https://colab.research.google.com/github/RachapalliMounvithaLakshmi/Unified-Mentor/blob/main/Climate_Nasa.ipynb\" target=\"_parent\"><img src=\"https://colab.research.google.com/assets/colab-badge.svg\" alt=\"Open In Colab\"/></a>"
      ]
    },
    {
      "cell_type": "code",
      "execution_count": null,
      "metadata": {
        "id": "6n65A8pLJ1ay"
      },
      "outputs": [],
      "source": [
        "import pandas as pd\n",
        "import re\n",
        "from textblob import TextBlob\n",
        "\n",
        "# Load dataset\n",
        "df = pd.read_csv('/content/climate_nasa.csv')\n",
        "\n",
        "# Clean text function\n",
        "def clean_text(text):\n",
        "    text = str(text)\n",
        "    text = re.sub(r'\\n', ' ', text)\n",
        "    text = re.sub(r'[^A-Za-z0-9 ]+', '', text)\n",
        "    text = text.lower()\n",
        "    return text\n",
        "\n",
        "# Clean and preprocess text column\n",
        "df['clean_text'] = df['text'].apply(clean_text)\n",
        "df = df.dropna(subset=['clean_text'])\n",
        "df = df[df['clean_text'].str.strip() != '']\n",
        "\n",
        "# Fill missing comment counts\n",
        "df['commentsCount'] = df['commentsCount'].fillna(0)\n",
        "\n",
        "# Sentiment polarity\n",
        "df['polarity'] = df['clean_text'].apply(lambda x: TextBlob(x).sentiment.polarity)\n",
        "\n",
        "# Remove rows with neutral sentiment\n",
        "df = df[df['polarity'] != 0]\n",
        "\n",
        "# Prepare features and target\n",
        "features = ['commentsCount', 'polarity']\n",
        "X = df[features]\n",
        "y = df['likesCount']\n",
        "\n",
        "# Split for train/test\n",
        "from sklearn.model_selection import train_test_split\n",
        "X_train, X_test, y_train, y_test = train_test_split(X, y, test_size=0.2, random_state=42)\n",
        "\n",
        "# Standardize\n",
        "from sklearn.preprocessing import StandardScaler\n",
        "scaler = StandardScaler()\n",
        "X_train_scaled = scaler.fit_transform(X_train)\n",
        "X_test_scaled = scaler.transform(X_test)\n"
      ]
    },
    {
      "cell_type": "code",
      "source": [
        "from sklearn.linear_model import LinearRegression\n",
        "from sklearn.metrics import mean_absolute_error, mean_squared_error, r2_score\n",
        "import matplotlib.pyplot as plt\n",
        "import seaborn as sns\n",
        "\n",
        "# Train Linear Regression\n",
        "lr = LinearRegression()\n",
        "lr.fit(X_train_scaled, y_train)\n",
        "y_pred_lr = lr.predict(X_test_scaled)\n",
        "\n",
        "# Evaluation\n",
        "print(\"Linear Regression Results\")\n",
        "print(\"MAE:\", mean_absolute_error(y_test, y_pred_lr))\n",
        "print(\"MSE:\", mean_squared_error(y_test, y_pred_lr))\n",
        "print(\"R2:\", r2_score(y_test, y_pred_lr))\n",
        "\n",
        "# Plot Actual vs Predicted\n",
        "plt.figure(figsize=(6,5))\n",
        "sns.scatterplot(x=y_test, y=y_pred_lr, alpha=0.7)\n",
        "plt.xlabel(\"Actual Likes\")\n",
        "plt.ylabel(\"Predicted Likes\")\n",
        "plt.title(\"Linear Regression: Actual vs Predicted\")\n",
        "plt.show()\n"
      ],
      "metadata": {
        "id": "ggqig55wKCYA"
      },
      "execution_count": null,
      "outputs": []
    },
    {
      "cell_type": "code",
      "source": [
        "from sklearn.ensemble import RandomForestRegressor\n",
        "\n",
        "# Train Random Forest\n",
        "rf = RandomForestRegressor(n_estimators=100, random_state=42)\n",
        "rf.fit(X_train_scaled, y_train)\n",
        "y_pred_rf = rf.predict(X_test_scaled)\n",
        "\n",
        "# Evaluation\n",
        "print(\"Random Forest Results\")\n",
        "print(\"MAE:\", mean_absolute_error(y_test, y_pred_rf))\n",
        "print(\"MSE:\", mean_squared_error(y_test, y_pred_rf))\n",
        "print(\"R2:\", r2_score(y_test, y_pred_rf))\n",
        "\n",
        "# Plot Actual vs Predicted\n",
        "plt.figure(figsize=(6,5))\n",
        "sns.scatterplot(x=y_test, y=y_pred_rf, alpha=0.7, color='orange')\n",
        "plt.xlabel(\"Actual Likes\")\n",
        "plt.ylabel(\"Predicted Likes\")\n",
        "plt.title(\"Random Forest: Actual vs Predicted\")\n",
        "plt.show()\n"
      ],
      "metadata": {
        "id": "TiDorLgjKGl3"
      },
      "execution_count": null,
      "outputs": []
    },
    {
      "cell_type": "code",
      "source": [
        "from transformers import BertTokenizer, BertModel\n",
        "import torch\n",
        "\n",
        "tokenizer = BertTokenizer.from_pretrained('bert-base-uncased')\n",
        "model = BertModel.from_pretrained('bert-base-uncased')\n",
        "\n",
        "def get_bert_embedding(text):\n",
        "    inputs = tokenizer(text, return_tensors=\"pt\", truncation=True, max_length=128)\n",
        "    with torch.no_grad():\n",
        "        outputs = model(**inputs)\n",
        "    return outputs.last_hidden_state[:, 0, :].squeeze().numpy()\n",
        "\n",
        "df['bert_vec'] = df['clean_text'].apply(get_bert_embedding)\n"
      ],
      "metadata": {
        "id": "avUevR3QKMSO"
      },
      "execution_count": null,
      "outputs": []
    },
    {
      "cell_type": "code",
      "source": [
        "import numpy as np\n",
        "from xgboost import XGBClassifier  # Or XGBRegressor for regression\n",
        "from sklearn.model_selection import train_test_split\n",
        "\n",
        "# Stack BERT features plus your numeric features\n",
        "X_bert = np.vstack(df['bert_vec'].values)\n",
        "X_full = np.hstack([X_bert, df[['commentsCount']].values])\n",
        "\n",
        "y = (df['likesCount'] > df['likesCount'].quantile(0.8)).astype(int)  # For classification\n",
        "\n",
        "X_train, X_test, y_train, y_test = train_test_split(X_full, y, test_size=0.2, random_state=42)\n",
        "\n",
        "model = XGBClassifier()\n",
        "model.fit(X_train, y_train)\n",
        "print(\"Test Accuracy:\", model.score(X_test, y_test))  # Should approach or cross 80%+"
      ],
      "metadata": {
        "id": "F0Mzf4MfKejl"
      },
      "execution_count": null,
      "outputs": []
    },
    {
      "cell_type": "code",
      "source": [
        "from textblob import TextBlob\n",
        "import pandas as pd\n",
        "import matplotlib.pyplot as plt\n",
        "import seaborn as sns\n",
        "\n",
        "# Load dataset\n",
        "climate = pd.read_csv('climate_nasa.csv')\n",
        "\n",
        "# Fill missing comment counts\n",
        "climate['commentsCount'] = climate['commentsCount'].fillna(0)\n",
        "\n",
        "# Convert text to lowercase and clean\n",
        "climate['clean_text'] = climate['text'].astype(str).apply(lambda x: x.lower())\n",
        "\n",
        "# Calculate sentiment polarity\n",
        "climate['polarity'] = climate['clean_text'].apply(lambda x: TextBlob(x).sentiment.polarity)\n",
        "\n",
        "# Plotting\n",
        "plt.figure(figsize=(12,5))\n",
        "\n",
        "# 1. Sentiment Polarity Distribution Histogram\n",
        "plt.subplot(1,2,1)\n",
        "sns.histplot(climate['polarity'], bins=30, kde=True, color='blue')\n",
        "plt.title('Sentiment Polarity Distribution')\n",
        "plt.xlabel('Sentiment Polarity')\n",
        "\n",
        "# 2. Scatter plot: Likes Count vs Comments Count\n",
        "plt.subplot(1,2,2)\n",
        "sns.scatterplot(x=climate['commentsCount'], y=climate['likesCount'], alpha=0.6, color='green')\n",
        "plt.title('Likes vs Comments')\n",
        "plt.xlabel('Comments Count')\n",
        "plt.ylabel('Likes Count')\n",
        "\n",
        "plt.tight_layout()\n",
        "plt.show()\n"
      ],
      "metadata": {
        "id": "_2B92SpoLsxp"
      },
      "execution_count": null,
      "outputs": []
    }
  ]
}